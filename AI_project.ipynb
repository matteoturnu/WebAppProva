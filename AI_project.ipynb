{
  "nbformat": 4,
  "nbformat_minor": 0,
  "metadata": {
    "colab": {
      "provenance": [],
      "include_colab_link": true
    },
    "kernelspec": {
      "name": "python3",
      "display_name": "Python 3"
    },
    "language_info": {
      "name": "python"
    }
  },
  "cells": [
    {
      "cell_type": "markdown",
      "metadata": {
        "id": "view-in-github",
        "colab_type": "text"
      },
      "source": [
        "<a href=\"https://colab.research.google.com/github/matteoturnu/WebAppProva/blob/master/AI_project.ipynb\" target=\"_parent\"><img src=\"https://colab.research.google.com/assets/colab-badge.svg\" alt=\"Open In Colab\"/></a>"
      ]
    },
    {
      "cell_type": "code",
      "execution_count": 10,
      "metadata": {
        "id": "NLSwyNFwHXUQ"
      },
      "outputs": [],
      "source": [
        "import torch\n",
        "import torchvision\n",
        "import torchvision.transforms as transforms\n",
        "import matplotlib.pyplot as plt\n",
        "import numpy as np\n",
        "\n"
      ]
    },
    {
      "cell_type": "code",
      "source": [
        "def show_single_letter(xi):\n",
        "  # take pytorch tensor and convert it into numpy array, then reshape into 28x28\n",
        "  xi = xi.numpy()\n",
        "  #xi = xi.numpy().reshape(28, 28)\n",
        "  ax = plt.gca()\n",
        "  ax.grid(color='r')\n",
        "  plt.xticks(range(0, xi.shape[0]+1), fontsize=5)\n",
        "  plt.yticks(range(0, xi.shape[0]+1), fontsize=5)\n",
        "  # specific values associated to \"extent\" attribute in order to place pixel positions precisely in the plot\n",
        "  # show the transposed \"matrix\" of the grey-scale images\n",
        "  plt.imshow(np.transpose(xi), extent=(0, xi.shape[0], xi.shape[0], 0), cmap='Greys', vmin=0, vmax=255)\n",
        "\n",
        "def show_letters(x, n=10):\n",
        "  for i in range(n**2):\n",
        "    plt.subplot(n, n, i+1)\n",
        "    show_single_letter(x[i])\n",
        "\n",
        "\n",
        "input_size = 28 * 28\n",
        "num_classes = 26\n",
        "\n",
        "# 124800 training set images\n",
        "train_set = torchvision.datasets.EMNIST(root=\"data\", split=\"letters\",\n",
        "                                        train=True, download=True,\n",
        "                                        transform=transforms.ToTensor())\n",
        "\n",
        "# 20800 test set images\n",
        "test_set = torchvision.datasets.EMNIST(root=\"data\", split=\"letters\",\n",
        "                                       train=False,\n",
        "                                       transform=transforms.ToTensor())\n",
        "# tr_images and labels are tensors\n",
        "tr_images = train_set.data\n",
        "labels = train_set.targets\n",
        "print(labels)\n",
        "\n",
        "classes = train_set.classes\n",
        "print(classes)\n",
        "\n",
        "\n",
        "\n",
        "# plot a single image\n",
        "#show_single_letter(tr_images[0])\n",
        "\n",
        "# show_letters(tr_images, 12)\n",
        "\n",
        "\n"
      ],
      "metadata": {
        "id": "PZG8udJCP8HY",
        "colab": {
          "base_uri": "https://localhost:8080/"
        },
        "outputId": "22ee2dee-0ec4-4af4-dd3a-6677d14c634a"
      },
      "execution_count": 11,
      "outputs": [
        {
          "output_type": "stream",
          "name": "stdout",
          "text": [
            "tensor([23,  7, 16,  ..., 13, 15, 19])\n",
            "['N/A', 'a', 'b', 'c', 'd', 'e', 'f', 'g', 'h', 'i', 'j', 'k', 'l', 'm', 'n', 'o', 'p', 'q', 'r', 's', 't', 'u', 'v', 'w', 'x', 'y', 'z']\n"
          ]
        }
      ]
    },
    {
      "cell_type": "markdown",
      "source": [
        "Understanding tensors"
      ],
      "metadata": {
        "id": "nKpcGDYv9j08"
      }
    },
    {
      "cell_type": "code",
      "source": [
        "print(tr_images)\n",
        "print(tr_images.size())\n",
        "print(tr_images[0])\n",
        "print(tr_images[0].size())"
      ],
      "metadata": {
        "colab": {
          "base_uri": "https://localhost:8080/"
        },
        "id": "tNqiXFct9jI_",
        "outputId": "8e8b5490-ee00-41f9-d0bb-8c478fce9850"
      },
      "execution_count": 12,
      "outputs": [
        {
          "output_type": "stream",
          "name": "stdout",
          "text": [
            "tensor([[[0, 0, 0,  ..., 0, 0, 0],\n",
            "         [0, 0, 0,  ..., 0, 0, 0],\n",
            "         [0, 0, 0,  ..., 0, 0, 0],\n",
            "         ...,\n",
            "         [0, 0, 0,  ..., 0, 0, 0],\n",
            "         [0, 0, 0,  ..., 0, 0, 0],\n",
            "         [0, 0, 0,  ..., 0, 0, 0]],\n",
            "\n",
            "        [[0, 0, 0,  ..., 0, 0, 0],\n",
            "         [0, 0, 0,  ..., 0, 0, 0],\n",
            "         [0, 0, 0,  ..., 0, 0, 0],\n",
            "         ...,\n",
            "         [0, 0, 0,  ..., 0, 0, 0],\n",
            "         [0, 0, 0,  ..., 0, 0, 0],\n",
            "         [0, 0, 0,  ..., 0, 0, 0]],\n",
            "\n",
            "        [[0, 0, 0,  ..., 0, 0, 0],\n",
            "         [0, 0, 0,  ..., 0, 0, 0],\n",
            "         [0, 0, 0,  ..., 0, 0, 0],\n",
            "         ...,\n",
            "         [0, 0, 0,  ..., 0, 0, 0],\n",
            "         [0, 0, 0,  ..., 0, 0, 0],\n",
            "         [0, 0, 0,  ..., 0, 0, 0]],\n",
            "\n",
            "        ...,\n",
            "\n",
            "        [[0, 0, 0,  ..., 0, 0, 0],\n",
            "         [0, 0, 0,  ..., 0, 0, 0],\n",
            "         [0, 0, 0,  ..., 0, 0, 0],\n",
            "         ...,\n",
            "         [0, 0, 0,  ..., 0, 0, 0],\n",
            "         [0, 0, 0,  ..., 0, 0, 0],\n",
            "         [0, 0, 0,  ..., 0, 0, 0]],\n",
            "\n",
            "        [[0, 0, 0,  ..., 0, 0, 0],\n",
            "         [0, 0, 0,  ..., 0, 0, 0],\n",
            "         [0, 0, 0,  ..., 0, 0, 0],\n",
            "         ...,\n",
            "         [0, 0, 0,  ..., 0, 0, 0],\n",
            "         [0, 0, 0,  ..., 0, 0, 0],\n",
            "         [0, 0, 0,  ..., 0, 0, 0]],\n",
            "\n",
            "        [[0, 0, 0,  ..., 0, 0, 0],\n",
            "         [0, 0, 0,  ..., 0, 0, 0],\n",
            "         [0, 0, 0,  ..., 0, 0, 0],\n",
            "         ...,\n",
            "         [0, 0, 0,  ..., 0, 0, 0],\n",
            "         [0, 0, 0,  ..., 0, 0, 0],\n",
            "         [0, 0, 0,  ..., 0, 0, 0]]], dtype=torch.uint8)\n",
            "torch.Size([124800, 28, 28])\n",
            "tensor([[  0,   0,   0,   0,   0,   0,   0,   0,   0,   0,   0,   0,   0,   0,\n",
            "           0,   0,   0,   0,   0,   0,   0,   0,   0,   0,   0,   0,   0,   0],\n",
            "        [  0,   0,   0,   0,   0,   0,   0,   0,   0,   0,   0,   0,   0,   0,\n",
            "           0,   0,   0,   0,   0,   0,   0,   0,   0,   0,   0,   0,   0,   0],\n",
            "        [  0,   0,   0,   0,   0,   0,   0,   0,   0,   0,   1,   0,   0,   0,\n",
            "           0,   0,   0,   0,   0,   0,   0,   0,   0,   0,   0,   0,   0,   0],\n",
            "        [  0,   0,  20, 114, 125,  82,  37,  37,  39, 115, 157,  94,  21,  10,\n",
            "          32,  37,  37,  37,  37,  37,  37,  37,  82, 125, 114,  20,   0,   0],\n",
            "        [  0,   3, 109, 245, 249, 233, 217, 217, 217, 245, 251, 234, 172, 142,\n",
            "         203, 217, 217, 217, 217, 217, 217, 217, 233, 249, 245, 109,   3,   0],\n",
            "        [  0,   4, 114, 253, 254, 254, 254, 254, 254, 254, 254, 254, 252, 251,\n",
            "         254, 254, 254, 254, 254, 254, 254, 254, 254, 254, 254, 127,   4,   0],\n",
            "        [  0,   0,  45, 214, 233, 251, 254, 254, 254, 254, 255, 255, 255, 255,\n",
            "         255, 255, 255, 255, 255, 255, 255, 255, 254, 254, 251, 113,   4,   0],\n",
            "        [  0,   0,   0,   5,  22,  82, 128, 160, 184, 217, 217, 218, 249, 254,\n",
            "         255, 255, 255, 255, 255, 254, 254, 247, 216, 170,  83,   7,   0,   0],\n",
            "        [  0,   0,   0,   0,   0,   2,   5,  16,  25,  37,  40,  50, 227, 254,\n",
            "         255, 255, 254, 254, 252, 245, 220, 159,  38,  21,   3,   0,   0,   0],\n",
            "        [  0,   0,   0,   0,   0,   0,   0,   0,   0,   9,  77, 140, 247, 254,\n",
            "         254, 254, 254, 244, 177, 114,  50,  20,   0,   0,   0,   0,   0,   0],\n",
            "        [  0,   0,   0,   0,   0,   0,   0,   3,  34, 175, 246, 254, 254, 254,\n",
            "         253, 221, 115,  46,   7,   0,   0,   0,   0,   0,   0,   0,   0,   0],\n",
            "        [  0,   0,   0,   0,   0,   3,  34,  84, 175, 251, 254, 254, 253, 234,\n",
            "         202,  91,   4,   0,   0,   0,   0,   0,   0,   0,   0,   0,   0,   0],\n",
            "        [  0,   0,   0,   0,  10,  79, 204, 233, 251, 254, 255, 255, 239, 116,\n",
            "          35,   7,   0,   0,   0,   0,   0,   0,   0,   0,   0,   0,   0,   0],\n",
            "        [  0,   0,   0,  20, 123, 220, 254, 254, 254, 255, 255, 255, 248, 165,\n",
            "          37,  21,  32,   9,   4,   4,   4,   4,   0,   0,   0,   0,   0,   0],\n",
            "        [  0,   0,   0, 100, 238, 254, 255, 255, 255, 255, 255, 255, 254, 253,\n",
            "         235, 234, 245, 222, 217, 217, 217, 203, 115,  32,   0,   0,   0,   0],\n",
            "        [  0,   0,   0,  33, 163, 244, 254, 254, 254, 255, 255, 255, 255, 254,\n",
            "         254, 254, 254, 254, 254, 254, 254, 254, 240, 111,   3,   0,   0,   0],\n",
            "        [  0,   0,   0,   1,  33, 126, 216, 233, 250, 254, 255, 255, 255, 255,\n",
            "         255, 255, 255, 255, 255, 255, 254, 254, 233,  82,   2,   0,   0,   0],\n",
            "        [  0,   0,   0,   0,   0,   0,   5,  22,  82, 251, 255, 255, 255, 255,\n",
            "         255, 255, 254, 254, 250, 233, 217, 203, 110,  18,   0,   0,   0,   0],\n",
            "        [  0,   0,   0,   0,   0,   0,   0,  10, 128, 254, 255, 255, 254, 254,\n",
            "         254, 254, 246, 208, 140,  82,  39,  32,   4,   0,   0,   0,   0,   0],\n",
            "        [  0,   0,   0,   0,   0,   0,  22,  95, 221, 254, 255, 254, 253, 234,\n",
            "         217, 215, 127,  46,   9,   2,   0,   0,   0,   0,   0,   0,   0,   0],\n",
            "        [  0,   0,   0,   0,   0,   3, 154, 232, 253, 254, 254, 252, 207,  95,\n",
            "          39,  37,   8,   0,   0,   0,   0,   0,   0,   0,   0,   0,   0,   0],\n",
            "        [  0,   0,   0,   0,   2,  77, 247, 254, 255, 254, 242, 131,   9,   0,\n",
            "           0,   0,   0,   0,   0,   0,   0,   0,   0,   0,   0,   0,   0,   0],\n",
            "        [  0,   0,   0,   0,   4, 125, 254, 254, 252, 232, 131,  32,   0,   0,\n",
            "           0,   0,   0,   0,   0,   0,   0,   0,   0,   0,   0,   0,   0,   0],\n",
            "        [  0,   0,   0,   0,   4, 113, 253, 246, 177, 109,  22,   0,   0,   0,\n",
            "           0,   0,   0,   0,   0,   0,   0,   0,   0,   0,   0,   0,   0,   0],\n",
            "        [  0,   0,   0,   0,   0,   8, 111,  77,   8,   0,   0,   0,   0,   0,\n",
            "           0,   0,   0,   0,   0,   0,   0,   0,   0,   0,   0,   0,   0,   0],\n",
            "        [  0,   0,   0,   0,   0,   0,   3,   2,   0,   0,   0,   0,   0,   0,\n",
            "           0,   0,   0,   0,   0,   0,   0,   0,   0,   0,   0,   0,   0,   0],\n",
            "        [  0,   0,   0,   0,   0,   0,   0,   0,   0,   0,   0,   0,   0,   0,\n",
            "           0,   0,   0,   0,   0,   0,   0,   0,   0,   0,   0,   0,   0,   0],\n",
            "        [  0,   0,   0,   0,   0,   0,   0,   0,   0,   0,   0,   0,   0,   0,\n",
            "           0,   0,   0,   0,   0,   0,   0,   0,   0,   0,   0,   0,   0,   0]],\n",
            "       dtype=torch.uint8)\n",
            "torch.Size([28, 28])\n"
          ]
        }
      ]
    },
    {
      "cell_type": "code",
      "source": [
        "show_single_letter(tr_images[0])"
      ],
      "metadata": {
        "colab": {
          "base_uri": "https://localhost:8080/",
          "height": 424
        },
        "id": "2QiklEyX8Ac8",
        "outputId": "5dde0c10-8bb6-45ea-9c59-ce356e3ec6b5"
      },
      "execution_count": 13,
      "outputs": [
        {
          "output_type": "display_data",
          "data": {
            "text/plain": [
              "<Figure size 640x480 with 1 Axes>"
            ],
            "image/png": "[encoded data removed]"
          },
          "metadata": {}
        }
      ]
    },
    {
      "cell_type": "markdown",
      "source": [
        "Elia - Binarizzazione dell'immagine"
      ],
      "metadata": {
        "id": "FYNgLDfBjHiJ"
      }
    },
    {
      "cell_type": "code",
      "source": [
        "def binarize(image, threshold, max_value):\n",
        "  return (image > threshold) * max_value\n",
        "\n",
        "threshold = 128\n",
        "max_value = 255\n",
        "\n",
        "index_letter = 0\n",
        "bin_img = binarize(tr_images[index_letter], 128, 255)\n",
        "show_single_letter(bin_img)\n",
        "print(\"Class: \", classes[labels[index_letter]])\n",
        "\n",
        "\n",
        "# original code by Elia\n",
        "\"\"\"thresh = 128\n",
        "maxval=255\n",
        "\n",
        "im_bin = (tr_images[0] > thresh)*maxval\n",
        "#print(im_bin)\n",
        "show_single_letter(im_bin)\"\"\"\n"
      ],
      "metadata": {
        "colab": {
          "base_uri": "https://localhost:8080/",
          "height": 477
        },
        "id": "Yoxr6ef7_TZS",
        "outputId": "0b313e23-aec3-49f9-fec6-2b4f5e750173"
      },
      "execution_count": 19,
      "outputs": [
        {
          "output_type": "stream",
          "name": "stdout",
          "text": [
            "Class:  w\n"
          ]
        },
        {
          "output_type": "execute_result",
          "data": {
            "text/plain": [
              "'thresh = 128\\nmaxval=255\\n\\nim_bin = (tr_images[0] > thresh)*maxval\\n#print(im_bin)\\nshow_single_letter(im_bin)'"
            ],
            "application/vnd.google.colaboratory.intrinsic+json": {
              "type": "string"
            }
          },
          "metadata": {},
          "execution_count": 19
        },
        {
          "output_type": "display_data",
          "data": {
            "text/plain": [
              "<Figure size 640x480 with 1 Axes>"
            ],
            "image/png": "[encoded data removed]"
          },
          "metadata": {}
        }
      ]
    },
    {
      "cell_type": "markdown",
      "source": [
        "Matteo - Implementazione della maschera per scheletrizzazione"
      ],
      "metadata": {
        "id": "vCqNCPSF8BCm"
      }
    },
    {
      "cell_type": "code",
      "source": [
        "def compute_centroid(image):\n",
        "\n",
        "  xis, yis = np.nonzero(image.numpy())\n",
        "  if xis.size or yis.size != 0:\n",
        "    return int(xis.mean()), int(yis.mean())\n",
        "\n",
        "  return None, None\n",
        "\n",
        "\n",
        "def show_subimages(image, dim_mask):\n",
        "\n",
        "  # use the transposed image so that at the end it doesn't plot a \"rotated\" image\n",
        "  image_T = np.transpose(image)\n",
        "\n",
        "  a = 0\n",
        "  for i in range(0, image.size()[0], dim_mask):\n",
        "    for j in range(0, image.size()[1], dim_mask):\n",
        "      a += 1\n",
        "      if a > 49:\n",
        "        break\n",
        "      sub_img = image_T[i:i+dim_mask, j:j+dim_mask]\n",
        "      plt.subplot(7, 7, a)\n",
        "\n",
        "      #imshow plot white either if all pixels = 0 or all pixels = 255. To display black when all values = 255, use vmin=0 and vmax=255\n",
        "      #plt.imshow(sub_img, cmap=\"Greys\", vmin=0, vmax=255)\n",
        "      show_single_letter(np.transpose(sub_img))\n",
        "\n",
        "\n",
        "def sample_image(image, dim_mask):\n",
        "\n",
        "  image_T = np.transpose(image)\n",
        "\n",
        "  # image that will be obtained from the computed centroids\n",
        "  sample_img = torch.zeros(image.size())\n",
        "  # be careful: at the beginning the mask moves from left to right, then from right\n",
        "  # to left and so on (right to left everytime \"i\" is odd)\n",
        "  start = 0\n",
        "  stop = image.size()[1]\n",
        "  step = dim_mask\n",
        "  for i in range(0, image.size()[0], dim_mask):\n",
        "    for j in range(start, stop, step):\n",
        "      sub_img = image_T[i:i+dim_mask, j:j+dim_mask]\n",
        "\n",
        "      c_ri, c_ci = compute_centroid(sub_img)\n",
        "\n",
        "      if (c_ri, c_ci) != (None, None):\n",
        "        #Shifting centroids in the new tensor sample_img\n",
        "        sample_img[c_ri+i, c_ci+j] = 255\n",
        "\n",
        "    # if j = 24 it means it's on the right side of the image\n",
        "    # so in the next turn j will decrease to 20\n",
        "    if j == image.size()[1] - dim_mask:\n",
        "      start = j\n",
        "      stop = -1\n",
        "      step = -(dim_mask)\n",
        "    else:\n",
        "      start = 0\n",
        "      stop = image.size()[1]\n",
        "      step = dim_mask\n",
        "\n",
        "  return sample_img\n",
        "\n",
        "\n",
        "dim_mask = 4\n",
        "\n",
        "sample_img = sample_image(bin_img, dim_mask)\n",
        "\n",
        "\n",
        "\n",
        "plt.figure(1)\n",
        "show_subimages(bin_img, dim_mask)\n",
        "plt.figure(2)\n",
        "plt.subplot(121)\n",
        "show_single_letter(bin_img)\n",
        "plt.subplot(122)\n",
        "show_single_letter(sample_img.T)\n",
        "\n",
        "\n",
        "\n",
        "\n"
      ],
      "metadata": {
        "id": "VT2WVlGzjwxH",
        "outputId": "d36dc8dc-b5c8-4160-d0c6-b59cc6061cd8",
        "colab": {
          "base_uri": "https://localhost:8080/",
          "height": 687
        }
      },
      "execution_count": 20,
      "outputs": [
        {
          "output_type": "display_data",
          "data": {
            "text/plain": [
              "<Figure size 640x480 with 49 Axes>"
            ],
            "image/png": "[encoded data removed]"
          },
          "metadata": {}
        },
        {
          "output_type": "display_data",
          "data": {
            "text/plain": [
              "<Figure size 640x480 with 2 Axes>"
            ],
            "image/png": "[encoded data removed]"
          },
          "metadata": {}
        }
      ]
    }
  ]
}